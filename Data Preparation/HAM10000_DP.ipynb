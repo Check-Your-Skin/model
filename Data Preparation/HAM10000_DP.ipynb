{
  "nbformat": 4,
  "nbformat_minor": 0,
  "metadata": {
    "colab": {
      "provenance": [],
      "machine_shape": "hm",
      "gpuType": "V100",
      "include_colab_link": true
    },
    "kernelspec": {
      "name": "python3",
      "display_name": "Python 3"
    },
    "language_info": {
      "name": "python"
    },
    "accelerator": "GPU"
  },
  "cells": [
    {
      "cell_type": "markdown",
      "metadata": {
        "id": "view-in-github",
        "colab_type": "text"
      },
      "source": [
        "<a href=\"https://colab.research.google.com/github/Check-Your-Skin/checkyourskin-ml_model/blob/train-cnn-ham10000/Data%20Preparation/HAM10000_DP.ipynb\" target=\"_parent\"><img src=\"https://colab.research.google.com/assets/colab-badge.svg\" alt=\"Open In Colab\"/></a>"
      ]
    },
    {
      "cell_type": "markdown",
      "source": [
        "#**Import**"
      ],
      "metadata": {
        "id": "7qloLdjeNAzu"
      }
    },
    {
      "cell_type": "code",
      "execution_count": null,
      "metadata": {
        "id": "AgrahV0gKDDl"
      },
      "outputs": [],
      "source": [
        "import os\n",
        "import io\n",
        "import shutil\n",
        "import zipfile\n",
        "import random\n",
        "\n",
        "import pandas as pd\n",
        "from glob import glob\n",
        "from PIL import Image\n",
        "from google.colab.patches import cv2_imshow\n",
        "from concurrent.futures import ThreadPoolExecutor\n",
        "import cv2\n",
        "\n",
        "from keras.utils import to_categorical\n",
        "from sklearn.model_selection import train_test_split\n",
        "from sklearn.preprocessing import LabelEncoder\n",
        "from sklearn.metrics import ConfusionMatrixDisplay, classification_report\n",
        "from sklearn.utils import class_weight, resample\n",
        "from keras.models import Sequential, load_model\n",
        "from keras.layers import Conv2D, MaxPooling2D, Dense, Flatten, Dropout\n",
        "from keras.layers import Dense, Conv2D, MaxPool2D , Flatten, BatchNormalization\n",
        "from keras import metrics\n",
        "from keras.metrics import Precision, Recall\n",
        "from keras.optimizers import Adam\n",
        "from keras.callbacks import ReduceLROnPlateau, EarlyStopping\n",
        "\n",
        "import matplotlib.pyplot as plt\n",
        "import matplotlib.image as pltimg\n",
        "import numpy as np"
      ]
    },
    {
      "cell_type": "markdown",
      "source": [
        "#Data Preparation"
      ],
      "metadata": {
        "id": "sQmmb_N5pHpL"
      }
    },
    {
      "cell_type": "markdown",
      "source": [
        "## Load pkl file"
      ],
      "metadata": {
        "id": "p5dyXA0w5PSN"
      }
    },
    {
      "cell_type": "code",
      "source": [
        "#Load DataFrame from Drive\n",
        "df = pd.read_pickle('/content/drive/MyDrive/ML-Models/HAM10000_28x28_5000.pkl')\n",
        "df['label'].value_counts()"
      ],
      "metadata": {
        "id": "W9PQTBMJDrdu",
        "outputId": "d3dd8fec-c7ef-4fad-f3c0-08952c0af4c7",
        "colab": {
          "base_uri": "https://localhost:8080/"
        }
      },
      "execution_count": null,
      "outputs": [
        {
          "output_type": "execute_result",
          "data": {
            "text/plain": [
              "label\n",
              "1    5000\n",
              "4    5000\n",
              "3    5000\n",
              "2    5000\n",
              "0    5000\n",
              "6    5000\n",
              "5    5000\n",
              "Name: count, dtype: int64"
            ]
          },
          "metadata": {},
          "execution_count": 3
        }
      ]
    },
    {
      "cell_type": "markdown",
      "source": [
        "## Rescaling and splitting data"
      ],
      "metadata": {
        "id": "nhCCL3jd5T9A"
      }
    },
    {
      "cell_type": "code",
      "source": [
        "x = np.asarray(df['image'].to_list())\n",
        "x = x / 255\n",
        "y = df['label']\n",
        "y = to_categorical(y, num_classes=7)\n",
        "x_train, x_sum, y_train, y_sum = train_test_split(x, y, train_size=0.7, shuffle=True)\n",
        "x_valid, x_test, y_valid, y_test = train_test_split(x_sum, y_sum, test_size=0.5)"
      ],
      "metadata": {
        "id": "O1u4dqRI_isR"
      },
      "execution_count": null,
      "outputs": []
    },
    {
      "cell_type": "code",
      "source": [
        "print('Train: ',len(x_train))\n",
        "print('Test: ',len(x_test))\n",
        "print('Validation: ',len(x_valid))"
      ],
      "metadata": {
        "id": "TxzDtlqlD4RG",
        "outputId": "c2305413-9ed9-4c7c-8f61-8d0d05984dc2",
        "colab": {
          "base_uri": "https://localhost:8080/"
        }
      },
      "execution_count": null,
      "outputs": [
        {
          "output_type": "stream",
          "name": "stdout",
          "text": [
            "Train:  24500\n",
            "Test:  5250\n",
            "Validation:  5250\n"
          ]
        }
      ]
    },
    {
      "cell_type": "markdown",
      "source": [
        "##Calculating Class Weights"
      ],
      "metadata": {
        "id": "1V7tHjkYv-JP"
      }
    },
    {
      "cell_type": "code",
      "source": [
        "Y_train = np.argmax(y_train, axis=1)\n",
        "class_weights = class_weight.compute_class_weight('balanced',classes=np.unique(Y_train),y=Y_train)\n",
        "class_weights = dict(zip(np.unique(Y_train),class_weights))\n",
        "class_weights"
      ],
      "metadata": {
        "colab": {
          "base_uri": "https://localhost:8080/"
        },
        "id": "yPxiWsmCwDPq",
        "outputId": "8fddeab9-d7de-4ee1-9f6d-2729909d6982"
      },
      "execution_count": null,
      "outputs": [
        {
          "output_type": "execute_result",
          "data": {
            "text/plain": [
              "{0: 0.9891468955073195,\n",
              " 1: 0.9822055137844612,\n",
              " 2: 1.0123998966675278,\n",
              " 3: 1.0123998966675278,\n",
              " 4: 0.9926545086119554,\n",
              " 5: 1.0105724600309438,\n",
              " 6: 1.0015333503705597}"
            ]
          },
          "metadata": {},
          "execution_count": 7
        }
      ]
    },
    {
      "cell_type": "markdown",
      "source": [
        "#Build Model"
      ],
      "metadata": {
        "id": "jZ7qIdTvjVsn"
      }
    },
    {
      "cell_type": "code",
      "source": [],
      "metadata": {
        "id": "TuwVNE4-5pvb"
      },
      "execution_count": null,
      "outputs": []
    },
    {
      "cell_type": "markdown",
      "source": [
        "## Convolutional Neural Network"
      ],
      "metadata": {
        "id": "xEAAf9fo5f2_"
      }
    },
    {
      "cell_type": "markdown",
      "source": [
        "## With Hyperparametersearch"
      ],
      "metadata": {
        "id": "K9mp7pYw5q2f"
      }
    },
    {
      "cell_type": "markdown",
      "source": [
        "### Model 1"
      ],
      "metadata": {
        "id": "1FcFc8Nf7j0M"
      }
    },
    {
      "cell_type": "markdown",
      "source": [
        "#### Architecture"
      ],
      "metadata": {
        "id": "uXFUVFfc7seV"
      }
    },
    {
      "cell_type": "code",
      "source": [
        "def call_existing_code(conv_1_1_filters, conv_1_2_filters, conv_2_1_filters, conv_2_2_filters, conv_3_1_filters, conv_3_2_filters, activation_1_1, activation_1_2, activation_2_1, activation_2_2, activation_3_1, activation_3_2, activation_4_1, activation_4_2, activation_4_3, rate_1, rate_2, rate_3, units_1, units_2, units_3, lr) :\n",
        "  model = Sequential()\n",
        "\n",
        "  # Convolutional Block 1\n",
        "  model.add(Conv2D(input_shape=(128,128,3), filters=conv_1_1_filters, kernel_size=(3, 3), padding=\"same\", activation=activation_1_1))\n",
        "  model.add(Conv2D(filters=conv_1_2_filters, kernel_size=(3, 3), padding=\"same\", activation=activation_1_2))\n",
        "  model.add(MaxPooling2D(pool_size=(2,2), strides=(2,2)))\n",
        "  model.add(BatchNormalization())\n",
        "\n",
        "  # Convolutional Block 2\n",
        "  model.add(Conv2D(filters=conv_2_1_filters, kernel_size=(3, 3), padding=\"same\", activation=activation_2_1))\n",
        "  model.add(Conv2D(filters=conv_2_2_filters, kernel_size=(3, 3), padding=\"same\", activation=activation_2_2))\n",
        "  model.add(MaxPooling2D(pool_size=(2,2), strides=(2,2)))\n",
        "  model.add(BatchNormalization())\n",
        "\n",
        "  # Convolutional Block 3\n",
        "  model.add(Conv2D(filters=conv_3_1_filters, kernel_size=(3, 3), padding=\"same\", activation=activation_3_1))\n",
        "  model.add(Conv2D(filters=conv_3_2_filters, kernel_size=(3, 3), padding=\"same\", activation=activation_3_2))\n",
        "  model.add(MaxPooling2D(pool_size=(2,2), strides=(2,2)))\n",
        "  model.add(BatchNormalization())\n",
        "\n",
        "  model.add(Flatten())\n",
        "  model.add(Dropout(rate=rate_1))\n",
        "  model.add(Dense(units=units_1, activation=activation_4_1))\n",
        "  model.add(Dropout(rate=rate_2))\n",
        "  model.add(Dense(units=units_2, activation=activation_4_2))\n",
        "  model.add(Dropout(rate=rate_3))\n",
        "  model.add(Dense(units=units_3, activation=activation_4_3))\n",
        "  model.add(BatchNormalization())\n",
        "\n",
        "  model.add(Dense(units=7, activation='softmax', kernel_initializer='glorot_uniform', name='classifier'))\n",
        "\n",
        "  optimizer_name = 'Adam'\n",
        "\n",
        "  loss_name = 'categorical_crossentropy'\n",
        "\n",
        "  model.compile(optimizer=keras.optimizers.Adam(learning_rate=lr),\n",
        "                loss=loss_name,\n",
        "                metrics = [\n",
        "                      metrics.Precision(),\n",
        "                      metrics.Recall(),\n",
        "                      tfa.metrics.F1Score(num_classes=7, average='macro',threshold=0.5),\n",
        "                      metrics.FalsePositives(),\n",
        "                      metrics.FalseNegatives(),\n",
        "                      metrics.TruePositives(),\n",
        "                      metrics.TrueNegatives(),\n",
        "                      metrics.AUC()\n",
        "                  ])\n",
        "\n",
        "  return model"
      ],
      "metadata": {
        "id": "eXOO8bvA5wYw"
      },
      "execution_count": null,
      "outputs": []
    },
    {
      "cell_type": "markdown",
      "source": [
        "#### Build model"
      ],
      "metadata": {
        "id": "q9wU5qVK7vB_"
      }
    },
    {
      "cell_type": "code",
      "source": [
        "model_architecture = None\n",
        "\n",
        "def build_model(hp):\n",
        "    # filters\n",
        "    # block 1\n",
        "    conv_1_1_filters = hp.Int('conv_1_1_filters', min_value=16, max_value=64, step=4)\n",
        "    conv_1_2_filters = hp.Int('conv_1_2_filters', min_value=16, max_value=64, step=4)\n",
        "\n",
        "    # block 2\n",
        "    conv_2_1_filters = hp.Int('conv_2_1_filters', min_value=32, max_value=96, step=4)\n",
        "    conv_2_2_filters = hp.Int('conv_2_2_filters', min_value=32, max_value=96, step=4)\n",
        "\n",
        "    # block 3\n",
        "    conv_3_1_filters = hp.Int('conv_3_1_filters', min_value=96, max_value=196, step=16)\n",
        "    conv_3_2_filters = hp.Int('conv_3_2_filters', min_value=96, max_value=196, step=16)\n",
        "\n",
        "    # units\n",
        "    units_1 = hp.Int('dense_units_1', min_value=256, max_value=780, step=32)\n",
        "    units_2 = hp.Int('dense_units_2', min_value=128, max_value=300, step=16)\n",
        "    units_3 = hp.Int('dense_units_3', min_value=16, max_value=128, step=16)\n",
        "\n",
        "\n",
        "    # activation\n",
        "    activation_1_1 = hp.Choice('activation_1_1', ['relu', 'elu', 'selu', 'tanh'])\n",
        "    activation_1_2 = hp.Choice('activation_1_2', ['relu', 'elu', 'selu', 'tanh'])\n",
        "\n",
        "    activation_2_1 = hp.Choice('activation_2_1', ['relu', 'elu', 'selu', 'tanh'])\n",
        "    activation_2_2 = hp.Choice('activation_2_2', ['relu', 'elu', 'selu', 'tanh'])\n",
        "\n",
        "    activation_3_1 = hp.Choice('activation_3_1', ['relu', 'elu', 'selu', 'tanh'])\n",
        "    activation_3_2 = hp.Choice('activation_3_2', ['relu', 'elu', 'selu', 'tanh'])\n",
        "\n",
        "    activation_4_1 = hp.Choice('activation_4_1', ['relu', 'elu', 'selu', 'tanh'])\n",
        "    activation_4_2 = hp.Choice('activation_4_2', ['relu', 'elu', 'selu', 'tanh'])\n",
        "    activation_4_3 = hp.Choice('activation_4_3', ['relu', 'elu', 'selu', 'tanh'])\n",
        "\n",
        "\n",
        "\n",
        "    # learning & dropoutrate\n",
        "    lr = hp.Float(\"lr\", min_value=1e-4, max_value=1e-2, sampling=\"log\")\n",
        "    rate_1 = hp.Float('dropout_rate_1', min_value=0.2, max_value=0.8, step=0.1)\n",
        "    rate_2 = hp.Float('dropout_rate_2', min_value=0.2, max_value=0.8, step=0.1)\n",
        "    rate_3 = hp.Float('dropout_rate_3', min_value=0.2, max_value=0.8, step=0.1)\n",
        "\n",
        "    # optimizer\n",
        "    optimizer = hp.Choice('optimizer', ['adam', 'rmsprop'])\n",
        "\n",
        "    model = call_existing_code(conv_1_1_filters=conv_1_1_filters, conv_1_2_filters=conv_1_2_filters, conv_2_1_filters=conv_2_1_filters, conv_2_2_filters=conv_2_2_filters,\n",
        "                               conv_3_1_filters=conv_3_1_filters, conv_3_2_filters=conv_3_2_filters,\n",
        "                               activation_1_1=activation_1_1, activation_1_2=activation_1_2, activation_2_1=activation_2_1, activation_2_2=activation_2_2,\n",
        "                               activation_3_1=activation_3_1, activation_3_2=activation_3_2, activation_4_1=activation_4_1, activation_4_2=activation_4_2, activation_4_3=activation_4_3,\n",
        "                               rate_1=rate_1, rate_2=rate_2, rate_3=rate_3,\n",
        "                               units_1=units_1, units_2=units_2, units_3=units_3,lr=lr)\n",
        "\n",
        "\n",
        "\n",
        "    model_architecture = model\n",
        "\n",
        "    return model\n",
        "\n",
        "build_model(keras_tuner.HyperParameters())"
      ],
      "metadata": {
        "id": "-tPquIfk7WOV"
      },
      "execution_count": null,
      "outputs": []
    },
    {
      "cell_type": "markdown",
      "source": [
        "#### Start Keras Tuner"
      ],
      "metadata": {
        "id": "pT9is8tY71rB"
      }
    },
    {
      "cell_type": "code",
      "source": [
        "early_stopping = EarlyStopping(monitor='val_loss', patience=3)\n",
        "\n",
        "tensorboard_callback = TensorBoard(log_dir='/tmp/tb_logs', histogram_freq=1)\n",
        "\n",
        "tuner = keras_tuner.RandomSearch(\n",
        "    hypermodel=build_model,\n",
        "    objective=keras_tuner.Objective('val_f1_score', direction='max'),\n",
        "    max_trials=20,\n",
        "    executions_per_trial=2,\n",
        "    directory='output',\n",
        "    project_name='image_classification'\n",
        ")"
      ],
      "metadata": {
        "id": "gdDdb1x67YED"
      },
      "execution_count": null,
      "outputs": []
    },
    {
      "cell_type": "code",
      "source": [
        "tuner.search(x_train, y_train, epochs=30, validation_data=(x_valid, y_valid), batch_size=8, class_weight=class_weights, callbacks=[early_stopping, tensorboard_callback])"
      ],
      "metadata": {
        "id": "Q-0Q3blh7ZQ9"
      },
      "execution_count": null,
      "outputs": []
    },
    {
      "cell_type": "markdown",
      "source": [
        "#### Get best hyperparameters"
      ],
      "metadata": {
        "id": "VoKQsVyc76Nk"
      }
    },
    {
      "cell_type": "code",
      "source": [
        "# Get the best hyperparameters\n",
        "best_hps = tuner.get_best_hyperparameters(num_trials=1)[0]"
      ],
      "metadata": {
        "id": "FR4nGs9u7dOn"
      },
      "execution_count": null,
      "outputs": []
    },
    {
      "cell_type": "code",
      "source": [
        "best_conv_1_1_filters = best_hps.get('conv_1_1_filters')\n",
        "best_conv_1_2_filters = best_hps.get('conv_1_2_filters')\n",
        "best_conv_2_1_filters = best_hps.get('conv_2_1_filters')\n",
        "best_conv_2_2_filters = best_hps.get('conv_2_2_filters')\n",
        "best_conv_3_1_filters = best_hps.get('conv_3_1_filters')\n",
        "best_conv_3_2_filters = best_hps.get('conv_3_2_filters')\n",
        "units_1 = best_hps.get('dense_units_1')\n",
        "units_2 = best_hps.get('dense_units_2')\n",
        "units_3 = best_hps.get('dense_units_3')\n",
        "activation_1_1 = best_hps.get('activation_1_1')\n",
        "activation_1_2 = best_hps.get('activation_1_2')\n",
        "activation_2_1 = best_hps.get('activation_2_1')\n",
        "activation_2_2 = best_hps.get('activation_2_2')\n",
        "activation_3_1 = best_hps.get('activation_3_1')\n",
        "activation_3_2 = best_hps.get('activation_3_2')\n",
        "activation_4_1 = best_hps.get('activation_4_1')\n",
        "activation_4_2 = best_hps.get('activation_4_2')\n",
        "activation_4_3 = best_hps.get('activation_4_3')\n",
        "rate_1 = best_hps.get('dropout_rate_1')\n",
        "rate_2 = best_hps.get('dropout_rate_2')\n",
        "rate_3 = best_hps.get('dropout_rate_3')\n",
        "lr = best_hps.get('lr')"
      ],
      "metadata": {
        "id": "YsNxd7rk7d-1"
      },
      "execution_count": null,
      "outputs": []
    },
    {
      "cell_type": "code",
      "source": [
        "print(\"Beste Hyperparameter:\")\n",
        "print(\"best_conv_1_1_filters =\", best_conv_1_1_filters)\n",
        "print(\"best_conv_1_2_filters =\", best_conv_1_2_filters)\n",
        "print(\"best_conv_2_1_filters =\", best_conv_2_1_filters)\n",
        "print(\"best_conv_2_2_filters =\", best_conv_2_2_filters)\n",
        "print(\"best_conv_3_1_filters =\", best_conv_3_1_filters)\n",
        "print(\"best_conv_3_2_filters =\", best_conv_3_2_filters)\n",
        "print(\"units_1 =\", units_1)\n",
        "print(\"units_2 =\", units_2)\n",
        "print(\"units_3 =\", units_3)\n",
        "print(\"activation_1_1 =\", activation_1_1)\n",
        "print(\"activation_1_2 =\", activation_1_2)\n",
        "print(\"activation_2_1 =\", activation_2_1)\n",
        "print(\"activation_2_2 =\", activation_2_2)\n",
        "print(\"activation_3_1 =\", activation_3_1)\n",
        "print(\"activation_3_2 =\", activation_3_2)\n",
        "print(\"activation_4_1 =\", activation_4_1)\n",
        "print(\"activation_4_2 =\", activation_4_2)\n",
        "print(\"activation_4_3 =\", activation_4_3)\n",
        "print(\"rate_1 =\", rate_1)\n",
        "print(\"rate_2 =\", rate_2)\n",
        "print(\"rate_3 =\", rate_3)\n",
        "print(\"lr =\", lr)"
      ],
      "metadata": {
        "id": "c0PBfJwG7fKf"
      },
      "execution_count": null,
      "outputs": []
    },
    {
      "cell_type": "code",
      "source": [
        "%load_ext tensorboard\n",
        "\n",
        "%tensorboard --logdir /tmp/tb_logs"
      ],
      "metadata": {
        "id": "wh4Z5mjC7a1i"
      },
      "execution_count": null,
      "outputs": []
    },
    {
      "cell_type": "code",
      "source": [
        "models = tuner.get_best_models(num_models=2)\n",
        "best_model = models[0]\n",
        "best_model.summary()"
      ],
      "metadata": {
        "id": "QGJ8n2TG7byH"
      },
      "execution_count": null,
      "outputs": []
    },
    {
      "cell_type": "markdown",
      "source": [
        "## Without Hyperparametersearch"
      ],
      "metadata": {
        "id": "nvmty0HD51hJ"
      }
    },
    {
      "cell_type": "markdown",
      "source": [
        "### Model compilation"
      ],
      "metadata": {
        "id": "BcgqOgyR564J"
      }
    },
    {
      "cell_type": "code",
      "source": [
        "early_stop = EarlyStopping(monitor='val_loss', patience=10, verbose=1,\n",
        "                           mode='auto', restore_best_weights=True)\n",
        "\n",
        "reduce_lr = ReduceLROnPlateau(monitor='val_loss', factor=0.1, patience=5,\n",
        "                              verbose=1, mode='auto')\n",
        "\n",
        "\n",
        "def mode_compilation(learning_rate, loss_name):\n",
        "  optimizer_name = 'Adam'\n",
        "\n",
        "  model.compile(optimizer=keras.optimizers.Adam(learning_rate=learning_rate),\n",
        "                  loss=loss_name,\n",
        "                  metrics = [\n",
        "                        metrics.Precision(),\n",
        "                        metrics.Recall(),\n",
        "                        tfa.metrics.F1Score(num_classes=7, average='macro',threshold=0.5),\n",
        "                        metrics.FalsePositives(),\n",
        "                        metrics.FalseNegatives(),\n",
        "                        metrics.TruePositives(),\n",
        "                        metrics.TrueNegatives(),\n",
        "                        metrics.AUC()\n",
        "                    ])"
      ],
      "metadata": {
        "id": "CQJBFpnL6EIY"
      },
      "execution_count": null,
      "outputs": []
    },
    {
      "cell_type": "markdown",
      "source": [
        "### Model 1"
      ],
      "metadata": {
        "id": "cbvNn5XX5oI1"
      }
    },
    {
      "cell_type": "code",
      "source": [
        "model = Sequential()\n",
        "\n",
        "# Convolutional Block 1\n",
        "model.add(Conv2D(input_shape=(28,28,3), filters=32, kernel_size=(3,3), padding=\"same\", activation=\"relu\"))\n",
        "model.add(Conv2D(filters=32, kernel_size=(3,3), padding=\"same\", activation=\"relu\"))\n",
        "model.add(MaxPooling2D(pool_size=(2,2), strides=(2,2)))\n",
        "model.add(BatchNormalization())\n",
        "\n",
        "# Convolutional Block 2\n",
        "model.add(Conv2D(filters=64, kernel_size=(3,3), padding=\"same\", activation=\"relu\"))\n",
        "model.add(Conv2D(filters=64, kernel_size=(3,3), padding=\"same\", activation=\"relu\"))\n",
        "model.add(MaxPooling2D(pool_size=(2,2), strides=(2,2)))\n",
        "model.add(BatchNormalization())\n",
        "\n",
        "# Convolutional Block 3\n",
        "model.add(Conv2D(filters=128, kernel_size=(3,3), padding=\"same\", activation=\"relu\"))\n",
        "model.add(Conv2D(filters=128, kernel_size=(3,3), padding=\"same\", activation=\"relu\"))\n",
        "model.add(MaxPooling2D(pool_size=(2,2), strides=(2,2)))\n",
        "model.add(BatchNormalization())\n",
        "\n",
        "model.add(Flatten())\n",
        "model.add(Dropout(rate=0.5))\n",
        "model.add(Dense(units=512, activation=\"relu\"))\n",
        "model.add(Dropout(rate=0.5))\n",
        "model.add(Dense(units=256, activation=\"relu\"))\n",
        "model.add(Dropout(rate=0.5))\n",
        "model.add(Dense(units=32, activation=\"relu\"))\n",
        "model.add(BatchNormalization())\n",
        "\n",
        "model.add(Dense(units=7, activation='softmax', kernel_initializer='glorot_uniform', name='classifier'))"
      ],
      "metadata": {
        "id": "WX1djxIrjQ0E"
      },
      "execution_count": null,
      "outputs": []
    },
    {
      "cell_type": "code",
      "source": [
        "model.summary()"
      ],
      "metadata": {
        "id": "pfNVjWbsjkyu",
        "outputId": "c51d35e3-a08e-4314-a54e-e1ce019eeb8c",
        "colab": {
          "base_uri": "https://localhost:8080/"
        }
      },
      "execution_count": null,
      "outputs": [
        {
          "output_type": "stream",
          "name": "stdout",
          "text": [
            "Model: \"sequential\"\n",
            "_________________________________________________________________\n",
            " Layer (type)                Output Shape              Param #   \n",
            "=================================================================\n",
            " conv2d (Conv2D)             (None, 28, 28, 32)        896       \n",
            "                                                                 \n",
            " conv2d_1 (Conv2D)           (None, 28, 28, 32)        9248      \n",
            "                                                                 \n",
            " max_pooling2d (MaxPooling2  (None, 14, 14, 32)        0         \n",
            " D)                                                              \n",
            "                                                                 \n",
            " batch_normalization (Batch  (None, 14, 14, 32)        128       \n",
            " Normalization)                                                  \n",
            "                                                                 \n",
            " conv2d_2 (Conv2D)           (None, 14, 14, 64)        18496     \n",
            "                                                                 \n",
            " conv2d_3 (Conv2D)           (None, 14, 14, 64)        36928     \n",
            "                                                                 \n",
            " max_pooling2d_1 (MaxPoolin  (None, 7, 7, 64)          0         \n",
            " g2D)                                                            \n",
            "                                                                 \n",
            " batch_normalization_1 (Bat  (None, 7, 7, 64)          256       \n",
            " chNormalization)                                                \n",
            "                                                                 \n",
            " conv2d_4 (Conv2D)           (None, 7, 7, 128)         73856     \n",
            "                                                                 \n",
            " conv2d_5 (Conv2D)           (None, 7, 7, 128)         147584    \n",
            "                                                                 \n",
            " max_pooling2d_2 (MaxPoolin  (None, 3, 3, 128)         0         \n",
            " g2D)                                                            \n",
            "                                                                 \n",
            " batch_normalization_2 (Bat  (None, 3, 3, 128)         512       \n",
            " chNormalization)                                                \n",
            "                                                                 \n",
            " flatten (Flatten)           (None, 1152)              0         \n",
            "                                                                 \n",
            " dropout (Dropout)           (None, 1152)              0         \n",
            "                                                                 \n",
            " dense (Dense)               (None, 512)               590336    \n",
            "                                                                 \n",
            " dropout_1 (Dropout)         (None, 512)               0         \n",
            "                                                                 \n",
            " dense_1 (Dense)             (None, 256)               131328    \n",
            "                                                                 \n",
            " dropout_2 (Dropout)         (None, 256)               0         \n",
            "                                                                 \n",
            " dense_2 (Dense)             (None, 32)                8224      \n",
            "                                                                 \n",
            " batch_normalization_3 (Bat  (None, 32)                128       \n",
            " chNormalization)                                                \n",
            "                                                                 \n",
            " classifier (Dense)          (None, 7)                 231       \n",
            "                                                                 \n",
            "=================================================================\n",
            "Total params: 1018151 (3.88 MB)\n",
            "Trainable params: 1017639 (3.88 MB)\n",
            "Non-trainable params: 512 (2.00 KB)\n",
            "_________________________________________________________________\n"
          ]
        }
      ]
    },
    {
      "cell_type": "code",
      "source": [
        "learning_rate = 0.0005\n",
        "\n",
        "optimizer = Adam(learning_rate=learning_rate)\n",
        "\n",
        "optimizer_name = 'Adam'\n",
        "\n",
        "loss_name = 'categorical_crossentropy'\n",
        "\n",
        "early_stop = EarlyStopping(monitor='val_loss', patience=10, verbose=1,\n",
        "                           mode='auto', restore_best_weights=True)\n",
        "\n",
        "reduce_lr = ReduceLROnPlateau(monitor='val_loss', factor=0.1, patience=5,\n",
        "                              verbose=1, mode='auto')\n",
        "\n",
        "model.compile(optimizer=optimizer,\n",
        "              loss=loss_name,\n",
        "              metrics = [\n",
        "                    metrics.Precision(),\n",
        "                    metrics.Recall(),\n",
        "                    metrics.FalsePositives(),\n",
        "                    metrics.FalseNegatives(),\n",
        "                    metrics.TruePositives(),\n",
        "                    metrics.TrueNegatives(),\n",
        "                    metrics.AUC()\n",
        "                ])"
      ],
      "metadata": {
        "id": "C__IcaDckNj1"
      },
      "execution_count": null,
      "outputs": []
    },
    {
      "cell_type": "code",
      "source": [
        "hist = model.fit(x_train, y_train, epochs=50, validation_data=(x_valid, y_valid), batch_size=8, callbacks = [reduce_lr, early_stop])\n",
        "#hist = model.fit(x_train, y_train, epochs=50, validation_data=(x_valid, y_valid), batch_size=8, class_weight=class_weights)"
      ],
      "metadata": {
        "id": "cvYBIVAzmVK2",
        "outputId": "544f1526-7ec8-4e23-9139-d296e5726662",
        "colab": {
          "base_uri": "https://localhost:8080/"
        }
      },
      "execution_count": null,
      "outputs": [
        {
          "output_type": "stream",
          "name": "stdout",
          "text": [
            "Epoch 1/50\n",
            "3063/3063 [==============================] - 37s 9ms/step - loss: 1.6114 - precision_2: 0.5807 - recall_2: 0.1498 - false_positives_2: 2649.0000 - false_negatives_2: 20831.0000 - true_positives_2: 3669.0000 - true_negatives_2: 144351.0000 - auc_2: 0.7673 - val_loss: 1.5717 - val_precision_2: 0.6701 - val_recall_2: 0.2349 - val_false_positives_2: 607.0000 - val_false_negatives_2: 4017.0000 - val_true_positives_2: 1233.0000 - val_true_negatives_2: 30893.0000 - val_auc_2: 0.7798 - lr: 5.0000e-04\n",
            "Epoch 2/50\n",
            "3063/3063 [==============================] - 26s 8ms/step - loss: 1.2781 - precision_2: 0.7007 - recall_2: 0.2871 - false_positives_2: 3004.0000 - false_negatives_2: 17466.0000 - true_positives_2: 7034.0000 - true_negatives_2: 143996.0000 - auc_2: 0.8601 - val_loss: 1.1966 - val_precision_2: 0.6904 - val_recall_2: 0.3823 - val_false_positives_2: 900.0000 - val_false_negatives_2: 3243.0000 - val_true_positives_2: 2007.0000 - val_true_negatives_2: 30600.0000 - val_auc_2: 0.8781 - lr: 5.0000e-04\n",
            "Epoch 3/50\n",
            "3063/3063 [==============================] - 26s 8ms/step - loss: 1.1267 - precision_2: 0.7218 - recall_2: 0.4098 - false_positives_2: 3869.0000 - false_negatives_2: 14460.0000 - true_positives_2: 10040.0000 - true_negatives_2: 143131.0000 - auc_2: 0.8930 - val_loss: 1.0038 - val_precision_2: 0.7244 - val_recall_2: 0.4817 - val_false_positives_2: 962.0000 - val_false_negatives_2: 2721.0000 - val_true_positives_2: 2529.0000 - val_true_negatives_2: 30538.0000 - val_auc_2: 0.9164 - lr: 5.0000e-04\n",
            "Epoch 4/50\n",
            "3063/3063 [==============================] - 26s 8ms/step - loss: 1.0158 - precision_2: 0.7422 - recall_2: 0.4900 - false_positives_2: 4170.0000 - false_negatives_2: 12496.0000 - true_positives_2: 12004.0000 - true_negatives_2: 142830.0000 - auc_2: 0.9134 - val_loss: 0.9575 - val_precision_2: 0.7447 - val_recall_2: 0.5383 - val_false_positives_2: 969.0000 - val_false_negatives_2: 2424.0000 - val_true_positives_2: 2826.0000 - val_true_negatives_2: 30531.0000 - val_auc_2: 0.9235 - lr: 5.0000e-04\n",
            "Epoch 5/50\n",
            "3063/3063 [==============================] - 25s 8ms/step - loss: 0.9348 - precision_2: 0.7669 - recall_2: 0.5389 - false_positives_2: 4012.0000 - false_negatives_2: 11298.0000 - true_positives_2: 13202.0000 - true_negatives_2: 142988.0000 - auc_2: 0.9266 - val_loss: 1.1759 - val_precision_2: 0.6270 - val_recall_2: 0.4806 - val_false_positives_2: 1501.0000 - val_false_negatives_2: 2727.0000 - val_true_positives_2: 2523.0000 - val_true_negatives_2: 29999.0000 - val_auc_2: 0.8914 - lr: 5.0000e-04\n",
            "Epoch 6/50\n",
            "3063/3063 [==============================] - 26s 8ms/step - loss: 0.8597 - precision_2: 0.7830 - recall_2: 0.5857 - false_positives_2: 3978.0000 - false_negatives_2: 10150.0000 - true_positives_2: 14350.0000 - true_negatives_2: 143022.0000 - auc_2: 0.9378 - val_loss: 0.9657 - val_precision_2: 0.7334 - val_recall_2: 0.5728 - val_false_positives_2: 1093.0000 - val_false_negatives_2: 2243.0000 - val_true_positives_2: 3007.0000 - val_true_negatives_2: 30407.0000 - val_auc_2: 0.9241 - lr: 5.0000e-04\n",
            "Epoch 7/50\n",
            "3063/3063 [==============================] - 26s 8ms/step - loss: 0.8136 - precision_2: 0.7950 - recall_2: 0.6121 - false_positives_2: 3866.0000 - false_negatives_2: 9504.0000 - true_positives_2: 14996.0000 - true_negatives_2: 143134.0000 - auc_2: 0.9442 - val_loss: 0.8054 - val_precision_2: 0.7894 - val_recall_2: 0.6297 - val_false_positives_2: 882.0000 - val_false_negatives_2: 1944.0000 - val_true_positives_2: 3306.0000 - val_true_negatives_2: 30618.0000 - val_auc_2: 0.9455 - lr: 5.0000e-04\n",
            "Epoch 8/50\n",
            "3063/3063 [==============================] - 26s 8ms/step - loss: 0.7738 - precision_2: 0.8034 - recall_2: 0.6363 - false_positives_2: 3816.0000 - false_negatives_2: 8910.0000 - true_positives_2: 15590.0000 - true_negatives_2: 143184.0000 - auc_2: 0.9494 - val_loss: 0.7678 - val_precision_2: 0.7876 - val_recall_2: 0.6230 - val_false_positives_2: 882.0000 - val_false_negatives_2: 1979.0000 - val_true_positives_2: 3271.0000 - val_true_negatives_2: 30618.0000 - val_auc_2: 0.9510 - lr: 5.0000e-04\n",
            "Epoch 9/50\n",
            "3063/3063 [==============================] - 26s 8ms/step - loss: 0.7191 - precision_2: 0.8157 - recall_2: 0.6639 - false_positives_2: 3674.0000 - false_negatives_2: 8234.0000 - true_positives_2: 16266.0000 - true_negatives_2: 143326.0000 - auc_2: 0.9560 - val_loss: 0.7363 - val_precision_2: 0.7961 - val_recall_2: 0.6657 - val_false_positives_2: 895.0000 - val_false_negatives_2: 1755.0000 - val_true_positives_2: 3495.0000 - val_true_negatives_2: 30605.0000 - val_auc_2: 0.9547 - lr: 5.0000e-04\n",
            "Epoch 10/50\n",
            "3063/3063 [==============================] - 26s 8ms/step - loss: 0.6768 - precision_2: 0.8290 - recall_2: 0.6910 - false_positives_2: 3492.0000 - false_negatives_2: 7570.0000 - true_positives_2: 16930.0000 - true_negatives_2: 143508.0000 - auc_2: 0.9606 - val_loss: 0.6767 - val_precision_2: 0.8090 - val_recall_2: 0.7114 - val_false_positives_2: 882.0000 - val_false_negatives_2: 1515.0000 - val_true_positives_2: 3735.0000 - val_true_negatives_2: 30618.0000 - val_auc_2: 0.9618 - lr: 5.0000e-04\n",
            "Epoch 11/50\n",
            "3063/3063 [==============================] - 26s 8ms/step - loss: 0.6358 - precision_2: 0.8376 - recall_2: 0.7126 - false_positives_2: 3385.0000 - false_negatives_2: 7041.0000 - true_positives_2: 17459.0000 - true_negatives_2: 143615.0000 - auc_2: 0.9652 - val_loss: 0.6895 - val_precision_2: 0.7972 - val_recall_2: 0.6920 - val_false_positives_2: 924.0000 - val_false_negatives_2: 1617.0000 - val_true_positives_2: 3633.0000 - val_true_negatives_2: 30576.0000 - val_auc_2: 0.9604 - lr: 5.0000e-04\n",
            "Epoch 12/50\n",
            "3063/3063 [==============================] - 26s 8ms/step - loss: 0.6048 - precision_2: 0.8456 - recall_2: 0.7298 - false_positives_2: 3264.0000 - false_negatives_2: 6621.0000 - true_positives_2: 17879.0000 - true_negatives_2: 143736.0000 - auc_2: 0.9681 - val_loss: 0.6016 - val_precision_2: 0.8364 - val_recall_2: 0.7274 - val_false_positives_2: 747.0000 - val_false_negatives_2: 1431.0000 - val_true_positives_2: 3819.0000 - val_true_negatives_2: 30753.0000 - val_auc_2: 0.9693 - lr: 5.0000e-04\n",
            "Epoch 13/50\n",
            "3063/3063 [==============================] - 26s 8ms/step - loss: 0.6214 - precision_2: 0.8414 - recall_2: 0.7267 - false_positives_2: 3357.0000 - false_negatives_2: 6696.0000 - true_positives_2: 17804.0000 - true_negatives_2: 143643.0000 - auc_2: 0.9664 - val_loss: 0.5652 - val_precision_2: 0.8506 - val_recall_2: 0.7354 - val_false_positives_2: 678.0000 - val_false_negatives_2: 1389.0000 - val_true_positives_2: 3861.0000 - val_true_negatives_2: 30822.0000 - val_auc_2: 0.9731 - lr: 5.0000e-04\n",
            "Epoch 14/50\n",
            "3063/3063 [==============================] - 25s 8ms/step - loss: 0.5468 - precision_2: 0.8623 - recall_2: 0.7607 - false_positives_2: 2976.0000 - false_negatives_2: 5863.0000 - true_positives_2: 18637.0000 - true_negatives_2: 144024.0000 - auc_2: 0.9738 - val_loss: 0.7081 - val_precision_2: 0.8025 - val_recall_2: 0.7082 - val_false_positives_2: 915.0000 - val_false_negatives_2: 1532.0000 - val_true_positives_2: 3718.0000 - val_true_negatives_2: 30585.0000 - val_auc_2: 0.9584 - lr: 5.0000e-04\n",
            "Epoch 15/50\n",
            "3063/3063 [==============================] - 25s 8ms/step - loss: 0.5250 - precision_2: 0.8660 - recall_2: 0.7751 - false_positives_2: 2939.0000 - false_negatives_2: 5511.0000 - true_positives_2: 18989.0000 - true_negatives_2: 144061.0000 - auc_2: 0.9754 - val_loss: 0.8509 - val_precision_2: 0.7425 - val_recall_2: 0.6547 - val_false_positives_2: 1192.0000 - val_false_negatives_2: 1813.0000 - val_true_positives_2: 3437.0000 - val_true_negatives_2: 30308.0000 - val_auc_2: 0.9441 - lr: 5.0000e-04\n",
            "Epoch 16/50\n",
            "3063/3063 [==============================] - 25s 8ms/step - loss: 0.5032 - precision_2: 0.8703 - recall_2: 0.7856 - false_positives_2: 2868.0000 - false_negatives_2: 5254.0000 - true_positives_2: 19246.0000 - true_negatives_2: 144132.0000 - auc_2: 0.9770 - val_loss: 0.6024 - val_precision_2: 0.8317 - val_recall_2: 0.7398 - val_false_positives_2: 786.0000 - val_false_negatives_2: 1366.0000 - val_true_positives_2: 3884.0000 - val_true_negatives_2: 30714.0000 - val_auc_2: 0.9692 - lr: 5.0000e-04\n",
            "Epoch 17/50\n",
            "3063/3063 [==============================] - 25s 8ms/step - loss: 0.4825 - precision_2: 0.8750 - recall_2: 0.7971 - false_positives_2: 2789.0000 - false_negatives_2: 4971.0000 - true_positives_2: 19529.0000 - true_negatives_2: 144211.0000 - auc_2: 0.9787 - val_loss: 0.6370 - val_precision_2: 0.8152 - val_recall_2: 0.7301 - val_false_positives_2: 869.0000 - val_false_negatives_2: 1417.0000 - val_true_positives_2: 3833.0000 - val_true_negatives_2: 30631.0000 - val_auc_2: 0.9664 - lr: 5.0000e-04\n",
            "Epoch 18/50\n",
            "3063/3063 [==============================] - 25s 8ms/step - loss: 0.4554 - precision_2: 0.8858 - recall_2: 0.8107 - false_positives_2: 2561.0000 - false_negatives_2: 4639.0000 - true_positives_2: 19861.0000 - true_negatives_2: 144439.0000 - auc_2: 0.9806 - val_loss: 0.5626 - val_precision_2: 0.8361 - val_recall_2: 0.7589 - val_false_positives_2: 781.0000 - val_false_negatives_2: 1266.0000 - val_true_positives_2: 3984.0000 - val_true_negatives_2: 30719.0000 - val_auc_2: 0.9730 - lr: 5.0000e-04\n",
            "Epoch 19/50\n",
            "3063/3063 [==============================] - 25s 8ms/step - loss: 0.5519 - precision_2: 0.8538 - recall_2: 0.7682 - false_positives_2: 3224.0000 - false_negatives_2: 5678.0000 - true_positives_2: 18822.0000 - true_negatives_2: 143776.0000 - auc_2: 0.9725 - val_loss: 0.5312 - val_precision_2: 0.8393 - val_recall_2: 0.7709 - val_false_positives_2: 775.0000 - val_false_negatives_2: 1203.0000 - val_true_positives_2: 4047.0000 - val_true_negatives_2: 30725.0000 - val_auc_2: 0.9759 - lr: 5.0000e-04\n",
            "Epoch 20/50\n",
            "3063/3063 [==============================] - 25s 8ms/step - loss: 0.6489 - precision_2: 0.8335 - recall_2: 0.7182 - false_positives_2: 3515.0000 - false_negatives_2: 6905.0000 - true_positives_2: 17595.0000 - true_negatives_2: 143485.0000 - auc_2: 0.9632 - val_loss: 0.5791 - val_precision_2: 0.8302 - val_recall_2: 0.7488 - val_false_positives_2: 804.0000 - val_false_negatives_2: 1319.0000 - val_true_positives_2: 3931.0000 - val_true_negatives_2: 30696.0000 - val_auc_2: 0.9719 - lr: 5.0000e-04\n",
            "Epoch 21/50\n",
            "3063/3063 [==============================] - 25s 8ms/step - loss: 0.4615 - precision_2: 0.8864 - recall_2: 0.8074 - false_positives_2: 2536.0000 - false_negatives_2: 4719.0000 - true_positives_2: 19781.0000 - true_negatives_2: 144464.0000 - auc_2: 0.9805 - val_loss: 0.5296 - val_precision_2: 0.8420 - val_recall_2: 0.7874 - val_false_positives_2: 776.0000 - val_false_negatives_2: 1116.0000 - val_true_positives_2: 4134.0000 - val_true_negatives_2: 30724.0000 - val_auc_2: 0.9760 - lr: 5.0000e-04\n",
            "Epoch 22/50\n",
            "3063/3063 [==============================] - 25s 8ms/step - loss: 0.4107 - precision_2: 0.8951 - recall_2: 0.8322 - false_positives_2: 2389.0000 - false_negatives_2: 4110.0000 - true_positives_2: 20390.0000 - true_negatives_2: 144611.0000 - auc_2: 0.9838 - val_loss: 0.6375 - val_precision_2: 0.8093 - val_recall_2: 0.7459 - val_false_positives_2: 923.0000 - val_false_negatives_2: 1334.0000 - val_true_positives_2: 3916.0000 - val_true_negatives_2: 30577.0000 - val_auc_2: 0.9670 - lr: 5.0000e-04\n",
            "Epoch 23/50\n",
            "3063/3063 [==============================] - 25s 8ms/step - loss: 0.4018 - precision_2: 0.8962 - recall_2: 0.8375 - false_positives_2: 2377.0000 - false_negatives_2: 3982.0000 - true_positives_2: 20518.0000 - true_negatives_2: 144623.0000 - auc_2: 0.9846 - val_loss: 0.6001 - val_precision_2: 0.8150 - val_recall_2: 0.7627 - val_false_positives_2: 909.0000 - val_false_negatives_2: 1246.0000 - val_true_positives_2: 4004.0000 - val_true_negatives_2: 30591.0000 - val_auc_2: 0.9706 - lr: 5.0000e-04\n",
            "Epoch 24/50\n",
            "3063/3063 [==============================] - 25s 8ms/step - loss: 0.3855 - precision_2: 0.8996 - recall_2: 0.8442 - false_positives_2: 2308.0000 - false_negatives_2: 3818.0000 - true_positives_2: 20682.0000 - true_negatives_2: 144692.0000 - auc_2: 0.9854 - val_loss: 0.7273 - val_precision_2: 0.7836 - val_recall_2: 0.7206 - val_false_positives_2: 1045.0000 - val_false_negatives_2: 1467.0000 - val_true_positives_2: 3783.0000 - val_true_negatives_2: 30455.0000 - val_auc_2: 0.9576 - lr: 5.0000e-04\n",
            "Epoch 25/50\n",
            "3063/3063 [==============================] - 25s 8ms/step - loss: 0.3620 - precision_2: 0.9048 - recall_2: 0.8553 - false_positives_2: 2204.0000 - false_negatives_2: 3545.0000 - true_positives_2: 20955.0000 - true_negatives_2: 144796.0000 - auc_2: 0.9870 - val_loss: 0.5889 - val_precision_2: 0.8219 - val_recall_2: 0.7857 - val_false_positives_2: 894.0000 - val_false_negatives_2: 1125.0000 - val_true_positives_2: 4125.0000 - val_true_negatives_2: 30606.0000 - val_auc_2: 0.9717 - lr: 5.0000e-04\n",
            "Epoch 26/50\n",
            "3062/3063 [============================>.] - ETA: 0s - loss: 0.3606 - precision_2: 0.9039 - recall_2: 0.8574 - false_positives_2: 2234.0000 - false_negatives_2: 3494.0000 - true_positives_2: 21002.0000 - true_negatives_2: 144742.0000 - auc_2: 0.9870\n",
            "Epoch 26: ReduceLROnPlateau reducing learning rate to 5.0000002374872565e-05.\n",
            "3063/3063 [==============================] - 25s 8ms/step - loss: 0.3606 - precision_2: 0.9039 - recall_2: 0.8573 - false_positives_2: 2234.0000 - false_negatives_2: 3495.0000 - true_positives_2: 21005.0000 - true_negatives_2: 144766.0000 - auc_2: 0.9870 - val_loss: 0.5356 - val_precision_2: 0.8440 - val_recall_2: 0.7914 - val_false_positives_2: 768.0000 - val_false_negatives_2: 1095.0000 - val_true_positives_2: 4155.0000 - val_true_negatives_2: 30732.0000 - val_auc_2: 0.9760 - lr: 5.0000e-04\n",
            "Epoch 27/50\n",
            "3063/3063 [==============================] - 25s 8ms/step - loss: 0.2672 - precision_2: 0.9357 - recall_2: 0.8940 - false_positives_2: 1505.0000 - false_negatives_2: 2598.0000 - true_positives_2: 21902.0000 - true_negatives_2: 145495.0000 - auc_2: 0.9928 - val_loss: 0.4650 - val_precision_2: 0.8602 - val_recall_2: 0.8284 - val_false_positives_2: 707.0000 - val_false_negatives_2: 901.0000 - val_true_positives_2: 4349.0000 - val_true_negatives_2: 30793.0000 - val_auc_2: 0.9812 - lr: 5.0000e-05\n",
            "Epoch 28/50\n",
            "3063/3063 [==============================] - 25s 8ms/step - loss: 0.2349 - precision_2: 0.9412 - recall_2: 0.9074 - false_positives_2: 1390.0000 - false_negatives_2: 2269.0000 - true_positives_2: 22231.0000 - true_negatives_2: 145610.0000 - auc_2: 0.9943 - val_loss: 0.4631 - val_precision_2: 0.8621 - val_recall_2: 0.8335 - val_false_positives_2: 700.0000 - val_false_negatives_2: 874.0000 - val_true_positives_2: 4376.0000 - val_true_negatives_2: 30800.0000 - val_auc_2: 0.9814 - lr: 5.0000e-05\n",
            "Epoch 29/50\n",
            "3063/3063 [==============================] - 25s 8ms/step - loss: 0.2128 - precision_2: 0.9470 - recall_2: 0.9164 - false_positives_2: 1256.0000 - false_negatives_2: 2048.0000 - true_positives_2: 22452.0000 - true_negatives_2: 145744.0000 - auc_2: 0.9951 - val_loss: 0.4693 - val_precision_2: 0.8646 - val_recall_2: 0.8377 - val_false_positives_2: 689.0000 - val_false_negatives_2: 852.0000 - val_true_positives_2: 4398.0000 - val_true_negatives_2: 30811.0000 - val_auc_2: 0.9811 - lr: 5.0000e-05\n",
            "Epoch 30/50\n",
            "3063/3063 [==============================] - 25s 8ms/step - loss: 0.1979 - precision_2: 0.9509 - recall_2: 0.9251 - false_positives_2: 1170.0000 - false_negatives_2: 1836.0000 - true_positives_2: 22664.0000 - true_negatives_2: 145830.0000 - auc_2: 0.9955 - val_loss: 0.4759 - val_precision_2: 0.8632 - val_recall_2: 0.8379 - val_false_positives_2: 697.0000 - val_false_negatives_2: 851.0000 - val_true_positives_2: 4399.0000 - val_true_negatives_2: 30803.0000 - val_auc_2: 0.9798 - lr: 5.0000e-05\n",
            "Epoch 31/50\n",
            "3063/3063 [==============================] - 25s 8ms/step - loss: 0.1906 - precision_2: 0.9525 - recall_2: 0.9289 - false_positives_2: 1135.0000 - false_negatives_2: 1742.0000 - true_positives_2: 22758.0000 - true_negatives_2: 145865.0000 - auc_2: 0.9956 - val_loss: 0.4783 - val_precision_2: 0.8641 - val_recall_2: 0.8429 - val_false_positives_2: 696.0000 - val_false_negatives_2: 825.0000 - val_true_positives_2: 4425.0000 - val_true_negatives_2: 30804.0000 - val_auc_2: 0.9793 - lr: 5.0000e-05\n",
            "Epoch 32/50\n",
            "3063/3063 [==============================] - 25s 8ms/step - loss: 0.1799 - precision_2: 0.9563 - recall_2: 0.9345 - false_positives_2: 1047.0000 - false_negatives_2: 1605.0000 - true_positives_2: 22895.0000 - true_negatives_2: 145953.0000 - auc_2: 0.9961 - val_loss: 0.4914 - val_precision_2: 0.8627 - val_recall_2: 0.8411 - val_false_positives_2: 703.0000 - val_false_negatives_2: 834.0000 - val_true_positives_2: 4416.0000 - val_true_negatives_2: 30797.0000 - val_auc_2: 0.9794 - lr: 5.0000e-05\n",
            "Epoch 33/50\n",
            "3060/3063 [============================>.] - ETA: 0s - loss: 0.1743 - precision_2: 0.9560 - recall_2: 0.9346 - false_positives_2: 1053.0000 - false_negatives_2: 1600.0000 - true_positives_2: 22880.0000 - true_negatives_2: 145827.0000 - auc_2: 0.9961\n",
            "Epoch 33: ReduceLROnPlateau reducing learning rate to 5.000000237487257e-06.\n",
            "3063/3063 [==============================] - 25s 8ms/step - loss: 0.1742 - precision_2: 0.9560 - recall_2: 0.9347 - false_positives_2: 1053.0000 - false_negatives_2: 1601.0000 - true_positives_2: 22899.0000 - true_negatives_2: 145947.0000 - auc_2: 0.9961 - val_loss: 0.4946 - val_precision_2: 0.8655 - val_recall_2: 0.8434 - val_false_positives_2: 688.0000 - val_false_negatives_2: 822.0000 - val_true_positives_2: 4428.0000 - val_true_negatives_2: 30812.0000 - val_auc_2: 0.9784 - lr: 5.0000e-05\n",
            "Epoch 34/50\n",
            "3063/3063 [==============================] - 25s 8ms/step - loss: 0.1596 - precision_2: 0.9601 - recall_2: 0.9400 - false_positives_2: 956.0000 - false_negatives_2: 1471.0000 - true_positives_2: 23029.0000 - true_negatives_2: 146044.0000 - auc_2: 0.9969 - val_loss: 0.4924 - val_precision_2: 0.8670 - val_recall_2: 0.8440 - val_false_positives_2: 680.0000 - val_false_negatives_2: 819.0000 - val_true_positives_2: 4431.0000 - val_true_negatives_2: 30820.0000 - val_auc_2: 0.9783 - lr: 5.0000e-06\n",
            "Epoch 35/50\n",
            "3063/3063 [==============================] - 25s 8ms/step - loss: 0.1628 - precision_2: 0.9598 - recall_2: 0.9408 - false_positives_2: 966.0000 - false_negatives_2: 1451.0000 - true_positives_2: 23049.0000 - true_negatives_2: 146034.0000 - auc_2: 0.9966 - val_loss: 0.4906 - val_precision_2: 0.8674 - val_recall_2: 0.8474 - val_false_positives_2: 680.0000 - val_false_negatives_2: 801.0000 - val_true_positives_2: 4449.0000 - val_true_negatives_2: 30820.0000 - val_auc_2: 0.9786 - lr: 5.0000e-06\n",
            "Epoch 36/50\n",
            "3063/3063 [==============================] - 25s 8ms/step - loss: 0.1568 - precision_2: 0.9608 - recall_2: 0.9423 - false_positives_2: 943.0000 - false_negatives_2: 1414.0000 - true_positives_2: 23086.0000 - true_negatives_2: 146057.0000 - auc_2: 0.9969 - val_loss: 0.4893 - val_precision_2: 0.8662 - val_recall_2: 0.8457 - val_false_positives_2: 686.0000 - val_false_negatives_2: 810.0000 - val_true_positives_2: 4440.0000 - val_true_negatives_2: 30814.0000 - val_auc_2: 0.9785 - lr: 5.0000e-06\n",
            "Epoch 37/50\n",
            "3063/3063 [==============================] - 26s 8ms/step - loss: 0.1476 - precision_2: 0.9626 - recall_2: 0.9458 - false_positives_2: 900.0000 - false_negatives_2: 1329.0000 - true_positives_2: 23171.0000 - true_negatives_2: 146100.0000 - auc_2: 0.9973 - val_loss: 0.4882 - val_precision_2: 0.8654 - val_recall_2: 0.8472 - val_false_positives_2: 692.0000 - val_false_negatives_2: 802.0000 - val_true_positives_2: 4448.0000 - val_true_negatives_2: 30808.0000 - val_auc_2: 0.9785 - lr: 5.0000e-06\n",
            "Epoch 38/50\n",
            "3063/3063 [==============================] - ETA: 0s - loss: 0.1510 - precision_2: 0.9635 - recall_2: 0.9439 - false_positives_2: 877.0000 - false_negatives_2: 1374.0000 - true_positives_2: 23126.0000 - true_negatives_2: 146123.0000 - auc_2: 0.9971\n",
            "Epoch 38: ReduceLROnPlateau reducing learning rate to 5.000000328436726e-07.\n",
            "Restoring model weights from the end of the best epoch: 28.\n",
            "3063/3063 [==============================] - 25s 8ms/step - loss: 0.1510 - precision_2: 0.9635 - recall_2: 0.9439 - false_positives_2: 877.0000 - false_negatives_2: 1374.0000 - true_positives_2: 23126.0000 - true_negatives_2: 146123.0000 - auc_2: 0.9971 - val_loss: 0.4902 - val_precision_2: 0.8645 - val_recall_2: 0.8472 - val_false_positives_2: 697.0000 - val_false_negatives_2: 802.0000 - val_true_positives_2: 4448.0000 - val_true_negatives_2: 30803.0000 - val_auc_2: 0.9785 - lr: 5.0000e-06\n",
            "Epoch 38: early stopping\n"
          ]
        }
      ]
    },
    {
      "cell_type": "markdown",
      "source": [],
      "metadata": {
        "id": "MCSu-MwK6L4T"
      }
    },
    {
      "cell_type": "markdown",
      "source": [
        "### Visualize CNN Architecture"
      ],
      "metadata": {
        "id": "638UcLWB6NyP"
      }
    },
    {
      "cell_type": "code",
      "source": [
        "pip install visualkeras"
      ],
      "metadata": {
        "id": "0OChzpQ06dI2"
      },
      "execution_count": null,
      "outputs": []
    },
    {
      "cell_type": "code",
      "source": [
        "import visualkeras\n",
        "\n",
        "visualkeras.layered_view(model, legend=True, to_file='/content/cnn_architecture.png')"
      ],
      "metadata": {
        "id": "nxEaQFdn6gXy"
      },
      "execution_count": null,
      "outputs": []
    },
    {
      "cell_type": "markdown",
      "source": [
        "### Fit"
      ],
      "metadata": {
        "id": "SBJoVHs46je-"
      }
    },
    {
      "cell_type": "code",
      "source": [
        "hist = model.fit(x_train, y_train, epochs=50, validation_data=(x_valid, y_valid), batch_size=8, callbacks = [reduce_lr, early_stop])\n",
        "\n",
        "#hist = model.fit(x_train, y_train, epochs=50, validation_data=(x_valid, y_valid), batch_size=8, class_weight=class_weights, callbacks=[tensorboard_callback])"
      ],
      "metadata": {
        "id": "cx8OCgCW6mXd"
      },
      "execution_count": null,
      "outputs": []
    },
    {
      "cell_type": "markdown",
      "source": [
        "#Evaluation"
      ],
      "metadata": {
        "id": "pqZ7IE1MtDQe"
      }
    },
    {
      "cell_type": "code",
      "source": [
        "test_data = model.evaluate(x_test, y_test)"
      ],
      "metadata": {
        "colab": {
          "base_uri": "https://localhost:8080/"
        },
        "id": "R4lUJ5vsunT4",
        "outputId": "4dc15de2-1732-4800-98fb-66154e1d68f8"
      },
      "execution_count": null,
      "outputs": [
        {
          "output_type": "stream",
          "name": "stdout",
          "text": [
            "165/165 [==============================] - 1s 4ms/step - loss: 0.4747 - precision_2: 0.8596 - recall_2: 0.8290 - false_positives_2: 711.0000 - false_negatives_2: 898.0000 - true_positives_2: 4352.0000 - true_negatives_2: 30789.0000 - auc_2: 0.9806\n"
          ]
        }
      ]
    },
    {
      "cell_type": "markdown",
      "source": [
        "## Start TensorBoard"
      ],
      "metadata": {
        "id": "z_HnyT6G6vja"
      }
    },
    {
      "cell_type": "code",
      "source": [
        "%load_ext tensorboard\n",
        "%tensorboard --logdir logs/fit"
      ],
      "metadata": {
        "id": "syGA2Ibm6yLG"
      },
      "execution_count": null,
      "outputs": []
    },
    {
      "cell_type": "markdown",
      "source": [
        "## Plot of results"
      ],
      "metadata": {
        "id": "x8EpYevt618P"
      }
    },
    {
      "cell_type": "markdown",
      "source": [
        "### Loss (Validation)"
      ],
      "metadata": {
        "id": "7Iw8ALFo64jO"
      }
    },
    {
      "cell_type": "code",
      "source": [
        "fig = plt.figure()\n",
        "plt.plot(hist.history['loss'], color='teal', label='Loss')\n",
        "plt.plot(hist.history['val_loss'], color='orange', label='Val Loss')\n",
        "fig.suptitle('Loss')\n",
        "plt.legend(loc='upper left')\n",
        "plt.show()"
      ],
      "metadata": {
        "id": "yCWM7gCutA13",
        "outputId": "fd6e2ee9-c7b2-4e8e-e80d-d7399363274d",
        "colab": {
          "base_uri": "https://localhost:8080/",
          "height": 478
        }
      },
      "execution_count": null,
      "outputs": [
        {
          "output_type": "display_data",
          "data": {
            "text/plain": [
              "<Figure size 640x480 with 1 Axes>"
            ],
            "image/png": "[encoded data removed]"
          },
          "metadata": {}
        }
      ]
    },
    {
      "cell_type": "markdown",
      "source": [
        "### Precision (Validation)"
      ],
      "metadata": {
        "id": "VSAIY0tU684l"
      }
    },
    {
      "cell_type": "code",
      "source": [
        "fig = plt.figure()\n",
        "plt.plot(hist.history['precision'], color='teal', label='Precision')\n",
        "plt.plot(hist.history['val_precision'], color='orange', label='Val Precision')\n",
        "fig.suptitle('Precision')\n",
        "plt.legend(loc='upper left')\n",
        "plt.show()"
      ],
      "metadata": {
        "id": "sTKSygaV5xgN"
      },
      "execution_count": null,
      "outputs": []
    },
    {
      "cell_type": "markdown",
      "source": [
        "### False negatives & False positives (Validation)"
      ],
      "metadata": {
        "id": "S_ZwWyxR7BOr"
      }
    },
    {
      "cell_type": "code",
      "source": [
        "fig = plt.figure()\n",
        "plt.plot(hist.history['false_negatives'], color='teal', label='False_Negative')\n",
        "plt.plot(hist.history['val_false_negatives'], color='cyan', label='Val_False_Negative')\n",
        "plt.plot(hist.history['false_positives'], color='orange', label='False_Positive')\n",
        "plt.plot(hist.history['val_false_positives'], color='magenta', label='Val_False_Positive')\n",
        "fig.suptitle('FN & FP')\n",
        "plt.legend(loc='upper left')\n",
        "plt.show()"
      ],
      "metadata": {
        "id": "bJxfyaYKACPl"
      },
      "execution_count": null,
      "outputs": []
    },
    {
      "cell_type": "markdown",
      "source": [
        "### Confusionmatrix"
      ],
      "metadata": {
        "id": "xkdDvYTo7GeO"
      }
    },
    {
      "cell_type": "code",
      "source": [
        "Y_pred = model.predict(x_test)\n",
        "Y_pred = np.argmax(Y_pred,axis=1)\n",
        "Y_test = np.argmax(y_test,axis=1)\n",
        "ConfusionMatrixDisplay.from_predictions(Y_test, Y_pred)\n",
        "plt.show()"
      ],
      "metadata": {
        "colab": {
          "base_uri": "https://localhost:8080/",
          "height": 466
        },
        "id": "mFqQIbzzgSXC",
        "outputId": "5c67e74d-041d-4957-bcea-63af8f6cafce"
      },
      "execution_count": null,
      "outputs": [
        {
          "output_type": "stream",
          "name": "stdout",
          "text": [
            "165/165 [==============================] - 1s 2ms/step\n"
          ]
        },
        {
          "output_type": "display_data",
          "data": {
            "text/plain": [
              "<Figure size 640x480 with 2 Axes>"
            ],
            "image/png": "[encoded data removed]"
          },
          "metadata": {}
        }
      ]
    },
    {
      "cell_type": "markdown",
      "source": [
        "### Classifikationreport"
      ],
      "metadata": {
        "id": "HdQipATA7JBC"
      }
    },
    {
      "cell_type": "code",
      "source": [
        "print(classification_report(Y_test, Y_pred))"
      ],
      "metadata": {
        "colab": {
          "base_uri": "https://localhost:8080/"
        },
        "id": "V0Z0pvZ0mIcN",
        "outputId": "a65e3963-0b0a-422f-9b05-ac3520d5cb0e"
      },
      "execution_count": null,
      "outputs": [
        {
          "output_type": "stream",
          "name": "stdout",
          "text": [
            "              precision    recall  f1-score   support\n",
            "\n",
            "           0       0.82      0.86      0.84       730\n",
            "           1       0.85      0.88      0.86       728\n",
            "           2       0.76      0.67      0.71       755\n",
            "           3       0.95      0.95      0.95       744\n",
            "           4       0.71      0.75      0.73       739\n",
            "           5       0.81      0.80      0.80       784\n",
            "           6       0.98      0.99      0.99       770\n",
            "\n",
            "    accuracy                           0.84      5250\n",
            "   macro avg       0.84      0.84      0.84      5250\n",
            "weighted avg       0.84      0.84      0.84      5250\n",
            "\n"
          ]
        }
      ]
    },
    {
      "cell_type": "markdown",
      "source": [
        "#Save / Load Model"
      ],
      "metadata": {
        "id": "RFaqKLQG3xRy"
      }
    },
    {
      "cell_type": "code",
      "source": [
        "model.save('/content/drive/My Drive/ML-Models/resampling_28x28_5000.keras')"
      ],
      "metadata": {
        "id": "ROkOhCYW3wlw"
      },
      "execution_count": null,
      "outputs": []
    },
    {
      "cell_type": "code",
      "source": [
        "model = load_model('/content/drive/My Drive/ML-Models/')"
      ],
      "metadata": {
        "id": "cScZzao3be8w"
      },
      "execution_count": null,
      "outputs": []
    }
  ]
}